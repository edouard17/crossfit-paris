{
 "cells": [
  {
   "cell_type": "markdown",
   "metadata": {},
   "source": [
    "# Capstone Project: What is the best location to open a CrossFit Box in Paris?\n",
    "\n",
    "**April 2019**"
   ]
  },
  {
   "cell_type": "markdown",
   "metadata": {},
   "source": [
    "## Business Problem"
   ]
  },
  {
   "cell_type": "markdown",
   "metadata": {},
   "source": [
    "<h3><center><font color='royalblue'> What is the best location to open a CrossFit Box in Paris? </font></center></h3>\n",
    "\n",
    "\n",
    "In this project we will try to find an optimal location for a CrossFit Box in Paris. We will try to detect **locations that are not already crowded with gyms or fitness centers**. In fact, we will be particularly interested in areas with no gyms, fitness centers or crossfit boxes in vicinity, and also with few sporting facilities nearby. We will target more **residential areas** (not touristic). We will also **prefer locations as close to city center as possible**."
   ]
  },
  {
   "cell_type": "markdown",
   "metadata": {},
   "source": [
    "## Data"
   ]
  },
  {
   "cell_type": "markdown",
   "metadata": {},
   "source": [
    "Based on definition of our problem, factors that will influence our decision are:\n",
    "* number and distance to existing gyms (any type of gym/fitness center)\n",
    "* number of sporting facilities nearby (football pitch, tennis court, boxing gym, ...)\n",
    "* number and distance to existing crossfit boxes\n",
    "* distance of neighborhood from city center\n",
    "\n",
    "We decided to use regularly spaced grid of locations, centered around city center, to define our neighborhoods.\n",
    "\n",
    "Following data sources will be needed to extract/generate the required information:\n",
    "* centers of candidate areas will be generated algorithmically and approximate addresses of centers of those areas will be obtained using **Google Maps API reverse geocoding**\n",
    "* number of gyms/sporting facilities/crossfit boxes and their type and location in every neighborhood will be obtained using **Foursquare API**\n",
    "* coordinate of Paris center will be obtained using **Google Maps API geocoding** "
   ]
  }
 ],
 "metadata": {
  "kernelspec": {
   "display_name": "Python 3",
   "language": "python",
   "name": "python3"
  },
  "language_info": {
   "codemirror_mode": {
    "name": "ipython",
    "version": 3
   },
   "file_extension": ".py",
   "mimetype": "text/x-python",
   "name": "python",
   "nbconvert_exporter": "python",
   "pygments_lexer": "ipython3",
   "version": "3.6.8"
  }
 },
 "nbformat": 4,
 "nbformat_minor": 2
}
